{
 "cells": [
  {
   "cell_type": "code",
   "execution_count": 2,
   "id": "3956edaa-1d73-4a87-a0b7-eda3947c557c",
   "metadata": {},
   "outputs": [],
   "source": [
    "import pandas as pd"
   ]
  },
  {
   "cell_type": "code",
   "execution_count": 9,
   "id": "d5b68ef3-f27b-4325-bad8-f4d5ea7963a6",
   "metadata": {},
   "outputs": [],
   "source": [
    "df = pd.read_csv('players.csv', quoting=1)"
   ]
  },
  {
   "cell_type": "code",
   "execution_count": 8,
   "id": "7c0d381e-8a9d-47f2-9a19-fe67d892a71d",
   "metadata": {},
   "outputs": [
    {
     "name": "stdout",
     "output_type": "stream",
     "text": [
      "          bioID  pos  firstseason  lastseason  height  weight  \\\n",
      "0    abrahta01w    C            0           0    74.0     190   \n",
      "1    abrossv01w    F            0           0    74.0     169   \n",
      "2    adairje01w    C            0           0    76.0     197   \n",
      "3    adamsda01w  F-C            0           0    73.0     239   \n",
      "4    adamsjo01w    C            0           0    75.0     180   \n",
      "..          ...  ...          ...         ...     ...     ...   \n",
      "888  zellosh01w    G            0           0    70.0     155   \n",
      "889  zhengha01w    C            0           0    80.0     254   \n",
      "890  zierddo99w  NaN            0           0     0.0       0   \n",
      "891  zirkozu01w    G            0           0    69.0     145   \n",
      "892   zollsh01w    G            0           0    67.0     148   \n",
      "\n",
      "               college            collegeOther   birthDate   deathDate  \n",
      "0    George Washington                     NaN  1975-09-27  0000-00-00  \n",
      "1          Connecticut                     NaN  1980-07-09  0000-00-00  \n",
      "2    George Washington                     NaN  1986-12-19  0000-00-00  \n",
      "3            Texas A&M  Jefferson College (JC)  1989-02-19  0000-00-00  \n",
      "4           New Mexico                     NaN  1981-05-24  0000-00-00  \n",
      "..                 ...                     ...         ...         ...  \n",
      "888         Pittsburgh                     NaN  1986-08-28  0000-00-00  \n",
      "889                NaN                     NaN  1967-03-07  0000-00-00  \n",
      "890                NaN                     NaN  0000-00-00  0000-00-00  \n",
      "891                NaN                     NaN  1980-06-06  0000-00-00  \n",
      "892           Virginia                     NaN  1986-07-11  0000-00-00  \n",
      "\n",
      "[893 rows x 10 columns]\n"
     ]
    }
   ],
   "source": [
    "print(df)"
   ]
  },
  {
   "cell_type": "code",
   "execution_count": 10,
   "id": "5aaca2d2-fbf7-41f4-8c68-4a0840196375",
   "metadata": {},
   "outputs": [
    {
     "name": "stdout",
     "output_type": "stream",
     "text": [
      "          bioID  pos  firstseason  lastseason  height  weight  \\\n",
      "230    elysh01w    F            0           0    74.0     182   \n",
      "231   enissh01w  F-C            0           0    73.0     185   \n",
      "232    erbsu01w    C            0           0    78.0     240   \n",
      "233  ervinla01w    F            0           0    76.0     171   \n",
      "234  estessh99w  NaN            0           0     0.0       0   \n",
      "235  evansda01w    G            0           0    67.0       0   \n",
      "236  evansde01w    G            0           0    64.0     125   \n",
      "237  fallotr01w  G-F            0           0    75.0     165   \n",
      "238  farriba01w  C-F            0           0    75.0     200   \n",
      "239  feastal01w    F            0           0    71.0     168   \n",
      "\n",
      "                  college collegeOther   birthDate   deathDate  \n",
      "230             Tennessee          NaN  1983-08-09  0000-00-00  \n",
      "231               Alabama          NaN  1974-12-03  0000-00-00  \n",
      "232  North Carolina State          NaN  1977-07-25  0000-00-00  \n",
      "233              Arkansas          NaN  1985-03-24  0000-00-00  \n",
      "234                   NaN          NaN  0000-00-00  0000-00-00  \n",
      "235         James Madison          NaN  1989-06-30  0000-00-00  \n",
      "236              Virginia          NaN  1970-10-11  0000-00-00  \n",
      "237                   NaN          NaN  1972-07-23  0000-00-00  \n",
      "238                Tulane          NaN  1976-09-10  0000-00-00  \n",
      "239               Harvard          NaN  1976-02-11  0000-00-00  \n"
     ]
    }
   ],
   "source": [
    "print(df.iloc[230:240])"
   ]
  },
  {
   "cell_type": "code",
   "execution_count": 6,
   "id": "00857fa5-a1b0-4a63-9528-4c98153b6935",
   "metadata": {},
   "outputs": [
    {
     "name": "stdout",
     "output_type": "stream",
     "text": [
      "Index(['bioID', 'pos', 'firstseason', 'lastseason', 'height', 'weight',\n",
      "       'college', 'collegeOther', 'birthDate', 'deathDate'],\n",
      "      dtype='object')\n"
     ]
    }
   ],
   "source": [
    "# Show the column names\n",
    "print(df.columns)"
   ]
  }
 ],
 "metadata": {
  "kernelspec": {
   "display_name": "Python 3 (ipykernel)",
   "language": "python",
   "name": "python3"
  },
  "language_info": {
   "codemirror_mode": {
    "name": "ipython",
    "version": 3
   },
   "file_extension": ".py",
   "mimetype": "text/x-python",
   "name": "python",
   "nbconvert_exporter": "python",
   "pygments_lexer": "ipython3",
   "version": "3.11.3"
  }
 },
 "nbformat": 4,
 "nbformat_minor": 5
}
